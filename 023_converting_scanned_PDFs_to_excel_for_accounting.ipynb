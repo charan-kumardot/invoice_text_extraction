{
 "cells": [
  {
   "cell_type": "code",
   "execution_count": 20,
   "metadata": {
    "colab": {
     "base_uri": "https://localhost:8080/",
     "height": 156
    },
    "colab_type": "code",
    "id": "zkyeOqINJf2V",
    "outputId": "98af9136-ec51-415e-a047-63d3f95c7700"
   },
   "outputs": [
    {
     "name": "stderr",
     "output_type": "stream",
     "text": [
      "'apt-get' is not recognized as an internal or external command,\n",
      "operable program or batch file.\n"
     ]
    }
   ],
   "source": [
    "!apt-get install ocrmypdf -q"
   ]
  },
  {
   "cell_type": "code",
   "execution_count": 22,
   "metadata": {},
   "outputs": [
    {
     "name": "stdout",
     "output_type": "stream",
     "text": [
      "Collecting pip\n",
      "  Downloading pip-20.2.2-py2.py3-none-any.whl (1.5 MB)\n",
      "Installing collected packages: pip\n",
      "Successfully installed pip-20.2.2\n"
     ]
    },
    {
     "name": "stderr",
     "output_type": "stream",
     "text": [
      "  WARNING: The scripts pip.exe, pip3.7.exe and pip3.exe are installed in 'C:\\Users\\Hi\\AppData\\Roaming\\Python\\Python37\\Scripts' which is not on PATH.\n",
      "  Consider adding this directory to PATH or, if you prefer to suppress this warning, use --no-warn-script-location.\n"
     ]
    }
   ],
   "source": [
    "!python -m pip install -U pip --user"
   ]
  },
  {
   "cell_type": "code",
   "execution_count": 24,
   "metadata": {
    "colab": {},
    "colab_type": "code",
    "id": "OIkKFZW-7gSS"
   },
   "outputs": [
    {
     "name": "stdout",
     "output_type": "stream",
     "text": [
      "Requirement already satisfied: pdfplumber in c:\\users\\hi\\appdata\\roaming\\python\\python37\\site-packages (0.5.23)\n",
      "Requirement already satisfied: Pillow>=7.0.0 in c:\\programdata\\anaconda3\\lib\\site-packages (from pdfplumber) (7.0.0)\n",
      "Requirement already satisfied: Wand in c:\\users\\hi\\appdata\\roaming\\python\\python37\\site-packages (from pdfplumber) (0.6.2)\n",
      "Requirement already satisfied: pdfminer.six==20200517 in c:\\users\\hi\\appdata\\roaming\\python\\python37\\site-packages (from pdfplumber) (20200517)\n",
      "Requirement already satisfied: pycryptodome in c:\\users\\hi\\appdata\\roaming\\python\\python37\\site-packages (from pdfminer.six==20200517->pdfplumber) (3.9.8)\n",
      "Requirement already satisfied: chardet; python_version > \"3.0\" in c:\\programdata\\anaconda3\\lib\\site-packages (from pdfminer.six==20200517->pdfplumber) (3.0.4)\n",
      "Requirement already satisfied: sortedcontainers in c:\\programdata\\anaconda3\\lib\\site-packages (from pdfminer.six==20200517->pdfplumber) (2.1.0)\n"
     ]
    }
   ],
   "source": [
    "!pip install --user pdfplumber"
   ]
  },
  {
   "cell_type": "code",
   "execution_count": 25,
   "metadata": {
    "colab": {},
    "colab_type": "code",
    "id": "bnD8KiTZK7-H"
   },
   "outputs": [
    {
     "name": "stdout",
     "output_type": "stream",
     "text": [
      "Requirement already satisfied: pdfplumber in c:\\users\\hi\\appdata\\roaming\\python\\python37\\site-packages (0.5.23)\n",
      "Requirement already satisfied: Wand in c:\\users\\hi\\appdata\\roaming\\python\\python37\\site-packages (from pdfplumber) (0.6.2)\n",
      "Requirement already satisfied: Pillow>=7.0.0 in c:\\programdata\\anaconda3\\lib\\site-packages (from pdfplumber) (7.0.0)\n",
      "Requirement already satisfied: pdfminer.six==20200517 in c:\\users\\hi\\appdata\\roaming\\python\\python37\\site-packages (from pdfplumber) (20200517)\n",
      "Requirement already satisfied: chardet; python_version > \"3.0\" in c:\\programdata\\anaconda3\\lib\\site-packages (from pdfminer.six==20200517->pdfplumber) (3.0.4)\n",
      "Requirement already satisfied: sortedcontainers in c:\\programdata\\anaconda3\\lib\\site-packages (from pdfminer.six==20200517->pdfplumber) (2.1.0)\n",
      "Requirement already satisfied: pycryptodome in c:\\users\\hi\\appdata\\roaming\\python\\python37\\site-packages (from pdfminer.six==20200517->pdfplumber) (3.9.8)\n"
     ]
    },
    {
     "ename": "ModuleNotFoundError",
     "evalue": "No module named 'pdfplumber'",
     "output_type": "error",
     "traceback": [
      "\u001b[1;31m---------------------------------------------------------------------------\u001b[0m",
      "\u001b[1;31mModuleNotFoundError\u001b[0m                       Traceback (most recent call last)",
      "\u001b[1;32m<ipython-input-25-6062db21102a>\u001b[0m in \u001b[0;36m<module>\u001b[1;34m\u001b[0m\n\u001b[0;32m      3\u001b[0m \u001b[1;32mimport\u001b[0m \u001b[0mrequests\u001b[0m\u001b[1;33m\u001b[0m\u001b[1;33m\u001b[0m\u001b[0m\n\u001b[0;32m      4\u001b[0m \u001b[0mget_ipython\u001b[0m\u001b[1;33m(\u001b[0m\u001b[1;33m)\u001b[0m\u001b[1;33m.\u001b[0m\u001b[0msystem\u001b[0m\u001b[1;33m(\u001b[0m\u001b[1;34m'pip install pdfplumber'\u001b[0m\u001b[1;33m)\u001b[0m\u001b[1;33m\u001b[0m\u001b[1;33m\u001b[0m\u001b[0m\n\u001b[1;32m----> 5\u001b[1;33m \u001b[1;32mimport\u001b[0m \u001b[0mpdfplumber\u001b[0m\u001b[1;33m\u001b[0m\u001b[1;33m\u001b[0m\u001b[0m\n\u001b[0m",
      "\u001b[1;31mModuleNotFoundError\u001b[0m: No module named 'pdfplumber'"
     ]
    }
   ],
   "source": [
    "import os\n",
    "\n",
    "import requests\n",
    "!pip install pdfplumber\n",
    "import pdfplumber"
   ]
  },
  {
   "cell_type": "code",
   "execution_count": 16,
   "metadata": {
    "colab": {},
    "colab_type": "code",
    "id": "gAg5Ob3dPbx_"
   },
   "outputs": [],
   "source": [
    "def download_file(url):\n",
    "    local_filename = url.split('/')[-1]\n",
    "    \n",
    "    with requests.get(url) as r:\n",
    "        assert r.status_code == 200, f'error, status code is {r.status_code}'\n",
    "        with open(local_filename, 'wb') as f:\n",
    "            f.write(r.content)\n",
    "        \n",
    "    return local_filename"
   ]
  },
  {
   "cell_type": "code",
   "execution_count": 17,
   "metadata": {
    "colab": {},
    "colab_type": "code",
    "id": "fh1M72iz7mGP"
   },
   "outputs": [],
   "source": [
    "invoice = 'https://bit.ly/2UJgUpO'\n",
    "invoice_pdf = download_file(invoice)"
   ]
  },
  {
   "cell_type": "code",
   "execution_count": 18,
   "metadata": {
    "colab": {
     "base_uri": "https://localhost:8080/",
     "height": 35
    },
    "colab_type": "code",
    "id": "5DnRw5RlXmq5",
    "outputId": "76c4bcaa-bc0a-41bd-cc4f-2149d9ab0015"
   },
   "outputs": [
    {
     "data": {
      "text/plain": [
       "'2UJgUpO'"
      ]
     },
     "execution_count": 18,
     "metadata": {},
     "output_type": "execute_result"
    }
   ],
   "source": [
    "invoice_pdf"
   ]
  },
  {
   "cell_type": "code",
   "execution_count": 19,
   "metadata": {
    "colab": {
     "base_uri": "https://localhost:8080/",
     "height": 35
    },
    "colab_type": "code",
    "id": "hjHUB9b87ypz",
    "outputId": "334341f4-ab31-4996-87b2-c033561a2261"
   },
   "outputs": [
    {
     "ename": "NameError",
     "evalue": "name 'pdfplumber' is not defined",
     "output_type": "error",
     "traceback": [
      "\u001b[1;31m---------------------------------------------------------------------------\u001b[0m",
      "\u001b[1;31mNameError\u001b[0m                                 Traceback (most recent call last)",
      "\u001b[1;32m<ipython-input-19-d4fda19d7aa5>\u001b[0m in \u001b[0;36m<module>\u001b[1;34m\u001b[0m\n\u001b[1;32m----> 1\u001b[1;33m \u001b[1;32mwith\u001b[0m \u001b[0mpdfplumber\u001b[0m\u001b[1;33m.\u001b[0m\u001b[0mopen\u001b[0m\u001b[1;33m(\u001b[0m\u001b[0minvoice_pdf\u001b[0m\u001b[1;33m)\u001b[0m \u001b[1;32mas\u001b[0m \u001b[0mpdf\u001b[0m\u001b[1;33m:\u001b[0m\u001b[1;33m\u001b[0m\u001b[1;33m\u001b[0m\u001b[0m\n\u001b[0m\u001b[0;32m      2\u001b[0m     \u001b[0mpage\u001b[0m \u001b[1;33m=\u001b[0m \u001b[0mpdf\u001b[0m\u001b[1;33m.\u001b[0m\u001b[0mpages\u001b[0m\u001b[1;33m[\u001b[0m\u001b[1;36m0\u001b[0m\u001b[1;33m]\u001b[0m\u001b[1;33m\u001b[0m\u001b[1;33m\u001b[0m\u001b[0m\n\u001b[0;32m      3\u001b[0m     \u001b[0mtext\u001b[0m \u001b[1;33m=\u001b[0m \u001b[0mpage\u001b[0m\u001b[1;33m.\u001b[0m\u001b[0mextract_text\u001b[0m\u001b[1;33m(\u001b[0m\u001b[1;33m)\u001b[0m\u001b[1;33m\u001b[0m\u001b[1;33m\u001b[0m\u001b[0m\n\u001b[0;32m      4\u001b[0m     \u001b[0mprint\u001b[0m\u001b[1;33m(\u001b[0m\u001b[0mtext\u001b[0m\u001b[1;33m)\u001b[0m\u001b[1;33m\u001b[0m\u001b[1;33m\u001b[0m\u001b[0m\n",
      "\u001b[1;31mNameError\u001b[0m: name 'pdfplumber' is not defined"
     ]
    }
   ],
   "source": [
    "with pdfplumber.open(invoice_pdf) as pdf:\n",
    "    page = pdf.pages[0]\n",
    "    text = page.extract_text()\n",
    "    print(text)"
   ]
  },
  {
   "cell_type": "code",
   "execution_count": null,
   "metadata": {
    "colab": {
     "base_uri": "https://localhost:8080/",
     "height": 35
    },
    "colab_type": "code",
    "id": "GCLypZf_z0jF",
    "outputId": "7014d78a-cd77-4e28-c56c-717e0fef0d90"
   },
   "outputs": [
    {
     "data": {
      "text/plain": [
       "0"
      ]
     },
     "execution_count": 8,
     "metadata": {
      "tags": []
     },
     "output_type": "execute_result"
    }
   ],
   "source": [
    "os.system(f'ocrmypdf {invoice_pdf} output.pdf')"
   ]
  },
  {
   "cell_type": "code",
   "execution_count": null,
   "metadata": {
    "colab": {
     "base_uri": "https://localhost:8080/",
     "height": 451
    },
    "colab_type": "code",
    "id": "psTdGdHm-IKm",
    "outputId": "8baaedd1-402e-44fd-fae2-ea9936e17870"
   },
   "outputs": [
    {
     "name": "stdout",
     "output_type": "stream",
     "text": [
      "Stanford Plumbing & Heating INVOICE\n",
      "123 Madison drive, Seattle, WA, 7829Q\n",
      "plumbingstanford.com\n",
      "990-120-4560\n",
      "BILL TO Invoice No: winvo2081\n",
      "Allen Smith Invoice Date: nae\n",
      "87Private st, Seattle, WA ‘Due Date: 12/01/18\n",
      "allen@gmailcom\n",
      "990-302-1898\n",
      "DESCRIPTION QTYHR UNITPRICE TOTAL\n",
      "Installed new kitchen sink(hours) 150.00\n",
      "Toto sink 1 $00.00 $00.00\n",
      "Worcester greenstar magnetic system filter 1 190.00 190.00\n",
      "Nest smart thermostat 1 250.00 250.00\n",
      "Worcester Greenstar 301 1 1500.00 1500.00\n",
      "‘SUBTOTAL 2590.00\n",
      "DISCOUNT 50.00\n",
      "‘SUBTOTAL LESS DISCOUNT 2540.00\n",
      "Tank you for your business!\n",
      "TAXRATE 12.00%\n",
      "TOTAL TAX 304.80\n",
      "Balance Due $2,844.80\n",
      "Terms & Instructions\n",
      "Please pay within 20 days by PayPal (bob@stanfordplumbingcom)\n",
      "Installed products have S year warranty.\n"
     ]
    }
   ],
   "source": [
    "with pdfplumber.open('output.pdf') as pdf:\n",
    "    page = pdf.pages[0]\n",
    "    text = page.extract_text(x_tolerance=2)\n",
    "    print(text)"
   ]
  },
  {
   "cell_type": "code",
   "execution_count": null,
   "metadata": {
    "colab": {},
    "colab_type": "code",
    "id": "4eUU1w5d4fBP"
   },
   "outputs": [],
   "source": [
    "lines = text.split('\\n')"
   ]
  },
  {
   "cell_type": "code",
   "execution_count": null,
   "metadata": {
    "colab": {
     "base_uri": "https://localhost:8080/",
     "height": 451
    },
    "colab_type": "code",
    "id": "1h6Y8UqgU9si",
    "outputId": "be9aee6c-e194-43c1-ebb5-207895e0adb5"
   },
   "outputs": [
    {
     "data": {
      "text/plain": [
       "['Stanford Plumbing & Heating INVOICE',\n",
       " '123 Madison drive, Seattle, WA, 7829Q',\n",
       " 'plumbingstanford.com',\n",
       " '990-120-4560',\n",
       " 'BILL TO Invoice No: winvo2081',\n",
       " 'Allen Smith Invoice Date: nae',\n",
       " '87Private st, Seattle, WA ‘Due Date: 12/01/18',\n",
       " 'allen@gmailcom',\n",
       " '990-302-1898',\n",
       " 'DESCRIPTION QTYHR UNITPRICE TOTAL',\n",
       " 'Installed new kitchen sink(hours) 150.00',\n",
       " 'Toto sink 1 $00.00 $00.00',\n",
       " 'Worcester greenstar magnetic system filter 1 190.00 190.00',\n",
       " 'Nest smart thermostat 1 250.00 250.00',\n",
       " 'Worcester Greenstar 301 1 1500.00 1500.00',\n",
       " '‘SUBTOTAL 2590.00',\n",
       " 'DISCOUNT 50.00',\n",
       " '‘SUBTOTAL LESS DISCOUNT 2540.00',\n",
       " 'Tank you for your business!',\n",
       " 'TAXRATE 12.00%',\n",
       " 'TOTAL TAX 304.80',\n",
       " 'Balance Due $2,844.80',\n",
       " 'Terms & Instructions',\n",
       " 'Please pay within 20 days by PayPal (bob@stanfordplumbingcom)',\n",
       " 'Installed products have S year warranty.']"
      ]
     },
     "execution_count": 13,
     "metadata": {
      "tags": []
     },
     "output_type": "execute_result"
    }
   ],
   "source": [
    "lines"
   ]
  },
  {
   "cell_type": "code",
   "execution_count": null,
   "metadata": {
    "colab": {},
    "colab_type": "code",
    "id": "IxKbWlrJVA0R"
   },
   "outputs": [],
   "source": [
    "import re"
   ]
  },
  {
   "cell_type": "code",
   "execution_count": null,
   "metadata": {
    "colab": {},
    "colab_type": "code",
    "id": "FYszGGphYTI7"
   },
   "outputs": [],
   "source": [
    "amt_re = re.compile(r'\\.\\d\\d$')"
   ]
  },
  {
   "cell_type": "code",
   "execution_count": null,
   "metadata": {
    "colab": {},
    "colab_type": "code",
    "id": "d6GxjOnUYXzY"
   },
   "outputs": [],
   "source": [
    "subt = 0\n",
    "\n",
    "for line in lines:\n",
    "    if 'SUBTOTAL' in line:\n",
    "        break\n",
    "    if amt_re.search(line):\n",
    "        subt += float(line.split()[-1].replace(',', '').replace('$', ''))"
   ]
  },
  {
   "cell_type": "code",
   "execution_count": null,
   "metadata": {
    "colab": {
     "base_uri": "https://localhost:8080/",
     "height": 35
    },
    "colab_type": "code",
    "id": "zf7IUBoUYbOD",
    "outputId": "d30ca132-7675-42db-fc68-0c305139db84"
   },
   "outputs": [
    {
     "data": {
      "text/plain": [
       "2090.0"
      ]
     },
     "execution_count": 22,
     "metadata": {
      "tags": []
     },
     "output_type": "execute_result"
    }
   ],
   "source": [
    "subt"
   ]
  },
  {
   "cell_type": "code",
   "execution_count": null,
   "metadata": {
    "colab": {
     "base_uri": "https://localhost:8080/",
     "height": 451
    },
    "colab_type": "code",
    "id": "Ej2AUIsfYxw0",
    "outputId": "87b74d98-4c46-4ef4-aac9-8eb8ba2dfc06"
   },
   "outputs": [
    {
     "data": {
      "text/plain": [
       "['Stanford Plumbing & Heating INVOICE',\n",
       " '123 Madison drive, Seattle, WA, 7829Q',\n",
       " 'plumbingstanford.com',\n",
       " '990-120-4560',\n",
       " 'BILL TO Invoice No: winvo2081',\n",
       " 'Allen Smith Invoice Date: nae',\n",
       " '87Private st, Seattle, WA ‘Due Date: 12/01/18',\n",
       " 'allen@gmailcom',\n",
       " '990-302-1898',\n",
       " 'DESCRIPTION QTYHR UNITPRICE TOTAL',\n",
       " 'Installed new kitchen sink(hours) 150.00',\n",
       " 'Toto sink 1 $00.00 $00.00',\n",
       " 'Worcester greenstar magnetic system filter 1 190.00 190.00',\n",
       " 'Nest smart thermostat 1 250.00 250.00',\n",
       " 'Worcester Greenstar 301 1 1500.00 1500.00',\n",
       " '‘SUBTOTAL 2590.00',\n",
       " 'DISCOUNT 50.00',\n",
       " '‘SUBTOTAL LESS DISCOUNT 2540.00',\n",
       " 'Tank you for your business!',\n",
       " 'TAXRATE 12.00%',\n",
       " 'TOTAL TAX 304.80',\n",
       " 'Balance Due $2,844.80',\n",
       " 'Terms & Instructions',\n",
       " 'Please pay within 20 days by PayPal (bob@stanfordplumbingcom)',\n",
       " 'Installed products have S year warranty.']"
      ]
     },
     "execution_count": 23,
     "metadata": {
      "tags": []
     },
     "output_type": "execute_result"
    }
   ],
   "source": [
    "lines"
   ]
  },
  {
   "cell_type": "code",
   "execution_count": null,
   "metadata": {
    "colab": {},
    "colab_type": "code",
    "id": "DaUo7dk9Y2Aj"
   },
   "outputs": [],
   "source": []
  }
 ],
 "metadata": {
  "colab": {
   "name": "023 converting scanned PDFs to excel for accounting",
   "provenance": []
  },
  "kernelspec": {
   "display_name": "Python 3",
   "language": "python",
   "name": "python3"
  },
  "language_info": {
   "codemirror_mode": {
    "name": "ipython",
    "version": 3
   },
   "file_extension": ".py",
   "mimetype": "text/x-python",
   "name": "python",
   "nbconvert_exporter": "python",
   "pygments_lexer": "ipython3",
   "version": "3.7.6"
  }
 },
 "nbformat": 4,
 "nbformat_minor": 1
}
